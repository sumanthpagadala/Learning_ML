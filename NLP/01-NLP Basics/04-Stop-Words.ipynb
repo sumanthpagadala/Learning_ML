{
 "cells": [
  {
   "cell_type": "code",
   "execution_count": 1,
   "metadata": {},
   "outputs": [],
   "source": [
    "# Perform standard imports:\n",
    "import spacy\n",
    "nlp = spacy.load('en_core_web_sm')"
   ]
  },
  {
   "cell_type": "code",
   "execution_count": 2,
   "metadata": {},
   "outputs": [
    {
     "name": "stdout",
     "output_type": "stream",
     "text": [
      "{'with', 'further', 'of', 'quite', 'from', 'thereupon', 'namely', 'who', '‘ll', 'ours', 'mostly', 'less', 'five', 'first', 'hence', 'i', 'regarding', 'whom', 'do', 'a', 'formerly', 'used', 'that', 'why', 'between', 'forty', 'nevertheless', 'some', 'there', 'may', 'also', 'give', 'becoming', 'somewhere', 'though', 'besides', 'six', 'wherein', 'often', 'once', 'at', 'none', 'amount', 'seem', 'everywhere', '’s', 'anyhow', 'off', 'put', 'if', 'ten', 'latter', 'name', 'rather', 'can', 'down', 'three', 'keep', 'each', 'have', 'such', 'side', 'beforehand', 'because', 'being', \"'ll\", 'than', 'among', 'him', 'become', 'herself', 'himself', '‘m', 'then', 'sixty', 'been', 'becomes', 'against', 'however', 'to', 'in', 'myself', 'meanwhile', \"'m\", 'again', 'whereas', 'amongst', 'thence', 'anywhere', 'any', 'otherwise', 'last', 'does', 'made', 'without', 'every', 'but', '’ll', 'already', 'while', 'nobody', 'you', 'due', 'yet', 'eight', 'too', 'are', 'noone', 'those', 'hers', 'hereby', 'should', 'an', 'nothing', 'whereafter', 'whatever', 'am', 'just', \"'s\", 'until', 'what', 'really', 'the', 'during', 'is', '’m', 'they', 'show', 'my', '‘d', 'cannot', 'only', 'n‘t', 'thereafter', 'me', 'make', \"'re\", 'anyway', '’re', 'within', 'many', 'your', 'n’t', 'moreover', 'get', 'its', 'done', 'sometime', 'ourselves', 'always', 'must', 'whose', 'below', 'somehow', 'out', 'nor', 'twenty', 'which', 'above', 'most', 'please', 'per', 'seems', 'her', 'everything', 'serious', 'still', 'either', 'enough', 'ca', 'full', 'two', 'whether', 'front', 'almost', 'one', 'upon', 'we', 'after', 'neither', 'here', 'more', 'how', 'will', 'except', 'herein', 'she', 'as', 'behind', 'yourselves', 'whereupon', 'them', 'around', 'bottom', 'few', 'into', \"n't\", 'would', 'thereby', 'nowhere', 'not', 'go', 'see', 'now', 'yourself', 'someone', 'did', 'has', 'same', 'under', 'several', '‘s', 'mine', 'by', 'seemed', \"'d\", 'and', 'whereby', 'itself', 'anyone', 'beyond', 'he', 'fifty', 'toward', 'might', 'hereafter', 'next', '’d', 'ever', 'another', 'their', 'wherever', 'never', 'anything', 'therein', 'all', 'very', 'although', 'part', 'whenever', 'beside', 'indeed', 'hereupon', 'whence', 'since', 'whoever', 'be', 'else', 'move', 'together', 'for', 'unless', 'us', 'where', 'seeming', 'perhaps', 'both', 'former', \"'ve\", 'own', 'twelve', 'across', 'these', 'yours', 'through', 'along', 'became', 'third', 'other', 'this', 'themselves', 'could', 'were', 'over', '‘re', 'doing', 'nine', 'had', 'on', 'whole', 'about', '‘ve', 'top', 'whither', 'or', 'our', 'onto', 'eleven', 'up', 'before', 'so', 'was', 'well', 'alone', 'empty', 'using', 'via', 'hundred', 'sometimes', 'his', 'fifteen', 'least', 'call', 'various', 'when', 'say', 'even', 'no', 'towards', 'take', 'throughout', 'back', 're', '’ve', 'latterly', 'thus', 'therefore', 'thru', 'something', 'afterwards', 'it', 'everyone', 'elsewhere', 'others', 'much', 'four'}\n"
     ]
    }
   ],
   "source": [
    "# Print the set of spaCy's default stop words (remember that sets are unordered):\n",
    "print(nlp.Defaults.stop_words)"
   ]
  },
  {
   "cell_type": "code",
   "execution_count": 3,
   "metadata": {},
   "outputs": [
    {
     "data": {
      "text/plain": [
       "326"
      ]
     },
     "execution_count": 3,
     "metadata": {},
     "output_type": "execute_result"
    }
   ],
   "source": [
    "len(nlp.Defaults.stop_words)"
   ]
  },
  {
   "cell_type": "code",
   "execution_count": 4,
   "metadata": {},
   "outputs": [
    {
     "data": {
      "text/plain": [
       "True"
      ]
     },
     "execution_count": 4,
     "metadata": {},
     "output_type": "execute_result"
    }
   ],
   "source": [
    "nlp.vocab['myself'].is_stop"
   ]
  },
  {
   "cell_type": "code",
   "execution_count": 5,
   "metadata": {},
   "outputs": [
    {
     "data": {
      "text/plain": [
       "False"
      ]
     },
     "execution_count": 5,
     "metadata": {},
     "output_type": "execute_result"
    }
   ],
   "source": [
    "nlp.vocab['mystery'].is_stop"
   ]
  },
  {
   "cell_type": "code",
   "execution_count": 6,
   "metadata": {},
   "outputs": [],
   "source": [
    "# Add the word to the set of stop words. Use lowercase!\n",
    "nlp.Defaults.stop_words.add('btw')\n",
    "\n",
    "# Set the stop_word tag on the lexeme\n",
    "nlp.vocab['btw'].is_stop = True"
   ]
  },
  {
   "cell_type": "code",
   "execution_count": 7,
   "metadata": {},
   "outputs": [
    {
     "data": {
      "text/plain": [
       "327"
      ]
     },
     "execution_count": 7,
     "metadata": {},
     "output_type": "execute_result"
    }
   ],
   "source": [
    "len(nlp.Defaults.stop_words)"
   ]
  },
  {
   "cell_type": "code",
   "execution_count": 8,
   "metadata": {},
   "outputs": [
    {
     "data": {
      "text/plain": [
       "True"
      ]
     },
     "execution_count": 8,
     "metadata": {},
     "output_type": "execute_result"
    }
   ],
   "source": [
    "nlp.vocab['btw'].is_stop"
   ]
  },
  {
   "cell_type": "code",
   "execution_count": 9,
   "metadata": {},
   "outputs": [],
   "source": [
    "# Remove the word from the set of stop words\n",
    "nlp.Defaults.stop_words.remove('beyond')\n",
    "\n",
    "# Remove the stop_word tag from the lexeme\n",
    "nlp.vocab['beyond'].is_stop = False"
   ]
  },
  {
   "cell_type": "code",
   "execution_count": 10,
   "metadata": {},
   "outputs": [
    {
     "data": {
      "text/plain": [
       "326"
      ]
     },
     "execution_count": 10,
     "metadata": {},
     "output_type": "execute_result"
    }
   ],
   "source": [
    "len(nlp.Defaults.stop_words)"
   ]
  },
  {
   "cell_type": "code",
   "execution_count": 11,
   "metadata": {},
   "outputs": [
    {
     "data": {
      "text/plain": [
       "False"
      ]
     },
     "execution_count": 11,
     "metadata": {},
     "output_type": "execute_result"
    }
   ],
   "source": [
    "nlp.vocab['beyond'].is_stop"
   ]
  }
 ],
 "metadata": {
  "kernelspec": {
   "display_name": "Python 3",
   "language": "python",
   "name": "python3"
  },
  "language_info": {
   "codemirror_mode": {
    "name": "ipython",
    "version": 3
   },
   "file_extension": ".py",
   "mimetype": "text/x-python",
   "name": "python",
   "nbconvert_exporter": "python",
   "pygments_lexer": "ipython3",
   "version": "3.11.5"
  }
 },
 "nbformat": 4,
 "nbformat_minor": 2
}
