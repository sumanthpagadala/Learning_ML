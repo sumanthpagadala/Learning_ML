{
 "cells": [
  {
   "cell_type": "markdown",
   "metadata": {},
   "source": [
    "## Loading the Data\n",
    "\n",
    "We will be working with the Babi Data Set from Facebook Research.\n",
    "\n",
    "Full Details: https://research.fb.com/downloads/babi/\n",
    "\n",
    "- Jason Weston, Antoine Bordes, Sumit Chopra, Tomas Mikolov, Alexander M. Rush,\n",
    "  \"Towards AI-Complete Question Answering: A Set of Prerequisite Toy Tasks\",\n",
    "  http://arxiv.org/abs/1502.05698\n"
   ]
  },
  {
   "cell_type": "code",
   "execution_count": 1,
   "metadata": {
    "collapsed": true
   },
   "outputs": [],
   "source": [
    "import pickle\n",
    "import numpy as np"
   ]
  },
  {
   "cell_type": "code",
   "execution_count": 2,
   "metadata": {
    "collapsed": true
   },
   "outputs": [],
   "source": [
    "with open(\"train_qa.txt\", \"rb\") as fp:   # Unpickling\n",
    "    train_data =  pickle.load(fp)"
   ]
  },
  {
   "cell_type": "code",
   "execution_count": 3,
   "metadata": {
    "collapsed": true
   },
   "outputs": [],
   "source": [
    "with open(\"test_qa.txt\", \"rb\") as fp:   # Unpickling\n",
    "    test_data =  pickle.load(fp)"
   ]
  },
  {
   "cell_type": "code",
   "execution_count": 4,
   "metadata": {},
   "outputs": [
    {
     "data": {
      "text/plain": [
       "list"
      ]
     },
     "execution_count": 4,
     "metadata": {},
     "output_type": "execute_result"
    }
   ],
   "source": [
    "type(test_data)"
   ]
  },
  {
   "cell_type": "code",
   "execution_count": 5,
   "metadata": {},
   "outputs": [
    {
     "data": {
      "text/plain": [
       "list"
      ]
     },
     "execution_count": 5,
     "metadata": {},
     "output_type": "execute_result"
    }
   ],
   "source": [
    "type(train_data)"
   ]
  },
  {
   "cell_type": "code",
   "execution_count": 6,
   "metadata": {},
   "outputs": [
    {
     "data": {
      "text/plain": [
       "1000"
      ]
     },
     "execution_count": 6,
     "metadata": {},
     "output_type": "execute_result"
    }
   ],
   "source": [
    "len(test_data)"
   ]
  },
  {
   "cell_type": "code",
   "execution_count": 7,
   "metadata": {},
   "outputs": [
    {
     "data": {
      "text/plain": [
       "10000"
      ]
     },
     "execution_count": 7,
     "metadata": {},
     "output_type": "execute_result"
    }
   ],
   "source": [
    "len(train_data)"
   ]
  },
  {
   "cell_type": "code",
   "execution_count": 8,
   "metadata": {},
   "outputs": [
    {
     "data": {
      "text/plain": [
       "(['Mary',\n",
       "  'moved',\n",
       "  'to',\n",
       "  'the',\n",
       "  'bathroom',\n",
       "  '.',\n",
       "  'Sandra',\n",
       "  'journeyed',\n",
       "  'to',\n",
       "  'the',\n",
       "  'bedroom',\n",
       "  '.'],\n",
       " ['Is', 'Sandra', 'in', 'the', 'hallway', '?'],\n",
       " 'no')"
      ]
     },
     "execution_count": 8,
     "metadata": {},
     "output_type": "execute_result"
    }
   ],
   "source": [
    "train_data[0]"
   ]
  },
  {
   "cell_type": "code",
   "execution_count": 9,
   "metadata": {},
   "outputs": [
    {
     "data": {
      "text/plain": [
       "'Mary moved to the bathroom . Sandra journeyed to the bedroom .'"
      ]
     },
     "execution_count": 9,
     "metadata": {},
     "output_type": "execute_result"
    }
   ],
   "source": [
    "' '.join(train_data[0][0])"
   ]
  },
  {
   "cell_type": "code",
   "execution_count": 10,
   "metadata": {},
   "outputs": [
    {
     "data": {
      "text/plain": [
       "'Is Sandra in the hallway ?'"
      ]
     },
     "execution_count": 10,
     "metadata": {},
     "output_type": "execute_result"
    }
   ],
   "source": [
    "' '.join(train_data[0][1])"
   ]
  },
  {
   "cell_type": "code",
   "execution_count": 11,
   "metadata": {},
   "outputs": [
    {
     "data": {
      "text/plain": [
       "'no'"
      ]
     },
     "execution_count": 11,
     "metadata": {},
     "output_type": "execute_result"
    }
   ],
   "source": [
    "train_data[0][2]"
   ]
  },
  {
   "cell_type": "code",
   "execution_count": 12,
   "metadata": {
    "collapsed": true
   },
   "outputs": [],
   "source": [
    "# Create a set that holds the vocab words\n",
    "vocab = set()"
   ]
  },
  {
   "cell_type": "code",
   "execution_count": 13,
   "metadata": {
    "collapsed": true
   },
   "outputs": [],
   "source": [
    "all_data = test_data + train_data"
   ]
  },
  {
   "cell_type": "code",
   "execution_count": 14,
   "metadata": {
    "collapsed": true
   },
   "outputs": [],
   "source": [
    "for story, question , answer in all_data:\n",
    "    # In case you don't know what a union of sets is:\n",
    "    # https://www.programiz.com/python-programming/methods/set/union\n",
    "    vocab = vocab.union(set(story))\n",
    "    vocab = vocab.union(set(question))"
   ]
  },
  {
   "cell_type": "code",
   "execution_count": 15,
   "metadata": {
    "collapsed": true
   },
   "outputs": [],
   "source": [
    "vocab.add('no')\n",
    "vocab.add('yes')"
   ]
  },
  {
   "cell_type": "code",
   "execution_count": 16,
   "metadata": {},
   "outputs": [
    {
     "data": {
      "text/plain": [
       "{'.',\n",
       " '?',\n",
       " 'Daniel',\n",
       " 'Is',\n",
       " 'John',\n",
       " 'Mary',\n",
       " 'Sandra',\n",
       " 'apple',\n",
       " 'back',\n",
       " 'bathroom',\n",
       " 'bedroom',\n",
       " 'discarded',\n",
       " 'down',\n",
       " 'dropped',\n",
       " 'football',\n",
       " 'garden',\n",
       " 'got',\n",
       " 'grabbed',\n",
       " 'hallway',\n",
       " 'in',\n",
       " 'journeyed',\n",
       " 'kitchen',\n",
       " 'left',\n",
       " 'milk',\n",
       " 'moved',\n",
       " 'no',\n",
       " 'office',\n",
       " 'picked',\n",
       " 'put',\n",
       " 'the',\n",
       " 'there',\n",
       " 'to',\n",
       " 'took',\n",
       " 'travelled',\n",
       " 'up',\n",
       " 'went',\n",
       " 'yes'}"
      ]
     },
     "execution_count": 16,
     "metadata": {},
     "output_type": "execute_result"
    }
   ],
   "source": [
    "vocab"
   ]
  },
  {
   "cell_type": "code",
   "execution_count": 17,
   "metadata": {
    "collapsed": true
   },
   "outputs": [],
   "source": [
    "vocab_len = len(vocab) + 1 #we add an extra space to hold a 0 for Keras's pad_sequences"
   ]
  },
  {
   "cell_type": "code",
   "execution_count": 18,
   "metadata": {
    "collapsed": true
   },
   "outputs": [],
   "source": [
    "max_story_len = max([len(data[0]) for data in all_data])"
   ]
  },
  {
   "cell_type": "code",
   "execution_count": 19,
   "metadata": {},
   "outputs": [
    {
     "data": {
      "text/plain": [
       "156"
      ]
     },
     "execution_count": 19,
     "metadata": {},
     "output_type": "execute_result"
    }
   ],
   "source": [
    "max_story_len"
   ]
  },
  {
   "cell_type": "code",
   "execution_count": 20,
   "metadata": {
    "collapsed": true
   },
   "outputs": [],
   "source": [
    "max_question_len = max([len(data[1]) for data in all_data])"
   ]
  },
  {
   "cell_type": "code",
   "execution_count": 21,
   "metadata": {},
   "outputs": [
    {
     "data": {
      "text/plain": [
       "6"
      ]
     },
     "execution_count": 21,
     "metadata": {},
     "output_type": "execute_result"
    }
   ],
   "source": [
    "max_question_len"
   ]
  },
  {
   "cell_type": "code",
   "execution_count": 22,
   "metadata": {},
   "outputs": [
    {
     "data": {
      "text/plain": [
       "{'.',\n",
       " '?',\n",
       " 'Daniel',\n",
       " 'Is',\n",
       " 'John',\n",
       " 'Mary',\n",
       " 'Sandra',\n",
       " 'apple',\n",
       " 'back',\n",
       " 'bathroom',\n",
       " 'bedroom',\n",
       " 'discarded',\n",
       " 'down',\n",
       " 'dropped',\n",
       " 'football',\n",
       " 'garden',\n",
       " 'got',\n",
       " 'grabbed',\n",
       " 'hallway',\n",
       " 'in',\n",
       " 'journeyed',\n",
       " 'kitchen',\n",
       " 'left',\n",
       " 'milk',\n",
       " 'moved',\n",
       " 'no',\n",
       " 'office',\n",
       " 'picked',\n",
       " 'put',\n",
       " 'the',\n",
       " 'there',\n",
       " 'to',\n",
       " 'took',\n",
       " 'travelled',\n",
       " 'up',\n",
       " 'went',\n",
       " 'yes'}"
      ]
     },
     "execution_count": 22,
     "metadata": {},
     "output_type": "execute_result"
    }
   ],
   "source": [
    "vocab"
   ]
  },
  {
   "cell_type": "code",
   "execution_count": 23,
   "metadata": {
    "collapsed": true
   },
   "outputs": [],
   "source": [
    "# Reserve 0 for pad_sequences\n",
    "vocab_size = len(vocab) + 1"
   ]
  },
  {
   "cell_type": "code",
   "execution_count": 24,
   "metadata": {},
   "outputs": [],
   "source": [
    "from keras.preprocessing.sequence import pad_sequences\n",
    "from keras.preprocessing.text import Tokenizer"
   ]
  },
  {
   "cell_type": "code",
   "execution_count": 25,
   "metadata": {
    "collapsed": true
   },
   "outputs": [],
   "source": [
    "# integer encode sequences of words\n",
    "tokenizer = Tokenizer(filters=[])\n",
    "tokenizer.fit_on_texts(vocab)"
   ]
  },
  {
   "cell_type": "code",
   "execution_count": 26,
   "metadata": {},
   "outputs": [
    {
     "data": {
      "text/plain": [
       "{'back': 1,\n",
       " '?': 2,\n",
       " '.': 3,\n",
       " 'moved': 4,\n",
       " 'apple': 5,\n",
       " 'up': 6,\n",
       " 'there': 7,\n",
       " 'discarded': 8,\n",
       " 'to': 9,\n",
       " 'sandra': 10,\n",
       " 'no': 11,\n",
       " 'in': 12,\n",
       " 'went': 13,\n",
       " 'took': 14,\n",
       " 'garden': 15,\n",
       " 'hallway': 16,\n",
       " 'football': 17,\n",
       " 'grabbed': 18,\n",
       " 'picked': 19,\n",
       " 'bathroom': 20,\n",
       " 'daniel': 21,\n",
       " 'kitchen': 22,\n",
       " 'office': 23,\n",
       " 'bedroom': 24,\n",
       " 'mary': 25,\n",
       " 'put': 26,\n",
       " 'dropped': 27,\n",
       " 'yes': 28,\n",
       " 'journeyed': 29,\n",
       " 'john': 30,\n",
       " 'milk': 31,\n",
       " 'left': 32,\n",
       " 'down': 33,\n",
       " 'the': 34,\n",
       " 'travelled': 35,\n",
       " 'is': 36,\n",
       " 'got': 37}"
      ]
     },
     "execution_count": 26,
     "metadata": {},
     "output_type": "execute_result"
    }
   ],
   "source": [
    "tokenizer.word_index"
   ]
  },
  {
   "cell_type": "code",
   "execution_count": 27,
   "metadata": {
    "collapsed": true
   },
   "outputs": [],
   "source": [
    "train_story_text = []\n",
    "train_question_text = []\n",
    "train_answers = []\n",
    "\n",
    "for story,question,answer in train_data:\n",
    "    train_story_text.append(story)\n",
    "    train_question_text.append(question)"
   ]
  },
  {
   "cell_type": "code",
   "execution_count": 28,
   "metadata": {
    "collapsed": true
   },
   "outputs": [],
   "source": [
    "train_story_seq = tokenizer.texts_to_sequences(train_story_text)"
   ]
  },
  {
   "cell_type": "code",
   "execution_count": 29,
   "metadata": {},
   "outputs": [
    {
     "data": {
      "text/plain": [
       "10000"
      ]
     },
     "execution_count": 29,
     "metadata": {},
     "output_type": "execute_result"
    }
   ],
   "source": [
    "len(train_story_text)"
   ]
  },
  {
   "cell_type": "code",
   "execution_count": 30,
   "metadata": {},
   "outputs": [
    {
     "data": {
      "text/plain": [
       "10000"
      ]
     },
     "execution_count": 30,
     "metadata": {},
     "output_type": "execute_result"
    }
   ],
   "source": [
    "len(train_story_seq)"
   ]
  },
  {
   "cell_type": "code",
   "execution_count": 31,
   "metadata": {
    "collapsed": true
   },
   "outputs": [],
   "source": [
    "# word_index = tokenizer.word_index"
   ]
  },
  {
   "cell_type": "markdown",
   "metadata": {},
   "source": [
    "### Functionalize Vectorization"
   ]
  },
  {
   "cell_type": "code",
   "execution_count": 32,
   "metadata": {
    "collapsed": true
   },
   "outputs": [],
   "source": [
    "def vectorize_stories(data, word_index=tokenizer.word_index, max_story_len=max_story_len,max_question_len=max_question_len):\n",
    "    '''\n",
    "    INPUT: \n",
    "    \n",
    "    data: consisting of Stories,Queries,and Answers\n",
    "    word_index: word index dictionary from tokenizer\n",
    "    max_story_len: the length of the longest story (used for pad_sequences function)\n",
    "    max_question_len: length of the longest question (used for pad_sequences function)\n",
    "\n",
    "\n",
    "    OUTPUT:\n",
    "    \n",
    "    Vectorizes the stories,questions, and answers into padded sequences. We first loop for every story, query , and\n",
    "    answer in the data. Then we convert the raw words to an word index value. Then we append each set to their appropriate\n",
    "    output list. Then once we have converted the words to numbers, we pad the sequences so they are all of equal length.\n",
    "    \n",
    "    Returns this in the form of a tuple (X,Xq,Y) (padded based on max lengths)\n",
    "    '''\n",
    "    \n",
    "    \n",
    "    # X = STORIES\n",
    "    X = []\n",
    "    # Xq = QUERY/QUESTION\n",
    "    Xq = []\n",
    "    # Y = CORRECT ANSWER\n",
    "    Y = []\n",
    "    \n",
    "    \n",
    "    for story, query, answer in data:\n",
    "        \n",
    "        x = [word_index[word.lower()] for word in story]\n",
    "        xq = [word_index[word.lower()] for word in query]\n",
    "        y = np.zeros(len(word_index) + 1)\n",
    "        \n",
    "        #\n",
    "        y[word_index[answer]] = 1\n",
    "        X.append(x)\n",
    "        Xq.append(xq)\n",
    "        Y.append(y)\n",
    "        \n",
    "    return (pad_sequences(X, maxlen=max_story_len),pad_sequences(Xq, maxlen=max_question_len), np.array(Y))"
   ]
  },
  {
   "cell_type": "code",
   "execution_count": 33,
   "metadata": {
    "collapsed": true
   },
   "outputs": [],
   "source": [
    "inputs_train, queries_train, answers_train = vectorize_stories(train_data)"
   ]
  },
  {
   "cell_type": "code",
   "execution_count": 34,
   "metadata": {
    "collapsed": true
   },
   "outputs": [],
   "source": [
    "inputs_test, queries_test, answers_test = vectorize_stories(test_data)"
   ]
  },
  {
   "cell_type": "code",
   "execution_count": 35,
   "metadata": {},
   "outputs": [
    {
     "data": {
      "text/plain": [
       "array([[ 0,  0,  0, ..., 34, 24,  3],\n",
       "       [ 0,  0,  0, ..., 34, 15,  3],\n",
       "       [ 0,  0,  0, ..., 34, 15,  3],\n",
       "       ...,\n",
       "       [ 0,  0,  0, ..., 34,  5,  3],\n",
       "       [ 0,  0,  0, ..., 34, 15,  3],\n",
       "       [ 0,  0,  0, ...,  5,  7,  3]], dtype=int32)"
      ]
     },
     "execution_count": 35,
     "metadata": {},
     "output_type": "execute_result"
    }
   ],
   "source": [
    "inputs_test"
   ]
  },
  {
   "cell_type": "code",
   "execution_count": 36,
   "metadata": {},
   "outputs": [
    {
     "data": {
      "text/plain": [
       "array([[36, 30, 12, 34, 22,  2],\n",
       "       [36, 30, 12, 34, 22,  2],\n",
       "       [36, 30, 12, 34, 15,  2],\n",
       "       ...,\n",
       "       [36, 25, 12, 34, 24,  2],\n",
       "       [36, 10, 12, 34, 15,  2],\n",
       "       [36, 25, 12, 34, 15,  2]], dtype=int32)"
      ]
     },
     "execution_count": 36,
     "metadata": {},
     "output_type": "execute_result"
    }
   ],
   "source": [
    "queries_test"
   ]
  },
  {
   "cell_type": "code",
   "execution_count": 37,
   "metadata": {},
   "outputs": [
    {
     "data": {
      "text/plain": [
       "array([[0., 0., 0., ..., 0., 0., 0.],\n",
       "       [0., 0., 0., ..., 0., 0., 0.],\n",
       "       [0., 0., 0., ..., 0., 0., 0.],\n",
       "       ...,\n",
       "       [0., 0., 0., ..., 0., 0., 0.],\n",
       "       [0., 0., 0., ..., 0., 0., 0.],\n",
       "       [0., 0., 0., ..., 0., 0., 0.]])"
      ]
     },
     "execution_count": 37,
     "metadata": {},
     "output_type": "execute_result"
    }
   ],
   "source": [
    "answers_test"
   ]
  },
  {
   "cell_type": "code",
   "execution_count": 38,
   "metadata": {},
   "outputs": [
    {
     "data": {
      "text/plain": [
       "array([  0.,   0.,   0.,   0.,   0.,   0.,   0.,   0.,   0.,   0.,   0.,\n",
       "       503.,   0.,   0.,   0.,   0.,   0.,   0.,   0.,   0.,   0.,   0.,\n",
       "         0.,   0.,   0.,   0.,   0.,   0., 497.,   0.,   0.,   0.,   0.,\n",
       "         0.,   0.,   0.,   0.,   0.])"
      ]
     },
     "execution_count": 38,
     "metadata": {},
     "output_type": "execute_result"
    }
   ],
   "source": [
    "sum(answers_test)"
   ]
  },
  {
   "cell_type": "code",
   "execution_count": 39,
   "metadata": {},
   "outputs": [
    {
     "data": {
      "text/plain": [
       "28"
      ]
     },
     "execution_count": 39,
     "metadata": {},
     "output_type": "execute_result"
    }
   ],
   "source": [
    "tokenizer.word_index['yes']"
   ]
  },
  {
   "cell_type": "code",
   "execution_count": 40,
   "metadata": {},
   "outputs": [
    {
     "data": {
      "text/plain": [
       "11"
      ]
     },
     "execution_count": 40,
     "metadata": {},
     "output_type": "execute_result"
    }
   ],
   "source": [
    "tokenizer.word_index['no']"
   ]
  },
  {
   "cell_type": "markdown",
   "metadata": {},
   "source": [
    "## Creating the Model"
   ]
  },
  {
   "cell_type": "code",
   "execution_count": 42,
   "metadata": {
    "collapsed": true
   },
   "outputs": [],
   "source": [
    "from keras.models import Sequential, Model\n",
    "from tensorflow.keras.layers import Embedding\n",
    "from keras.layers import Input, Activation, Dense, Permute, Dropout\n",
    "from keras.layers import add, dot, concatenate\n",
    "from keras.layers import LSTM"
   ]
  },
  {
   "cell_type": "code",
   "execution_count": 43,
   "metadata": {
    "collapsed": true
   },
   "outputs": [],
   "source": [
    "input_sequence = Input((max_story_len,))\n",
    "question = Input((max_question_len,))"
   ]
  },
  {
   "cell_type": "code",
   "execution_count": 44,
   "metadata": {
    "collapsed": true
   },
   "outputs": [],
   "source": [
    "input_encoder_m = Sequential()\n",
    "input_encoder_m.add(Embedding(input_dim=vocab_size,output_dim=64))\n",
    "input_encoder_m.add(Dropout(0.3))\n"
   ]
  },
  {
   "cell_type": "code",
   "execution_count": 45,
   "metadata": {
    "collapsed": true
   },
   "outputs": [],
   "source": [
    "input_encoder_c = Sequential()\n",
    "input_encoder_c.add(Embedding(input_dim=vocab_size,output_dim=max_question_len))\n",
    "input_encoder_c.add(Dropout(0.3))\n"
   ]
  },
  {
   "cell_type": "code",
   "execution_count": 46,
   "metadata": {
    "collapsed": true
   },
   "outputs": [],
   "source": [
    "question_encoder = Sequential()\n",
    "question_encoder.add(Embedding(input_dim=vocab_size,\n",
    "                               output_dim=64,\n",
    "                               input_length=max_question_len))\n",
    "question_encoder.add(Dropout(0.3))"
   ]
  },
  {
   "cell_type": "code",
   "execution_count": 47,
   "metadata": {
    "collapsed": true
   },
   "outputs": [],
   "source": [
    "input_encoded_m = input_encoder_m(input_sequence)\n",
    "input_encoded_c = input_encoder_c(input_sequence)\n",
    "question_encoded = question_encoder(question)"
   ]
  },
  {
   "cell_type": "code",
   "execution_count": 48,
   "metadata": {
    "collapsed": true
   },
   "outputs": [],
   "source": [
    "match = dot([input_encoded_m, question_encoded], axes=(2, 2))\n",
    "match = Activation('softmax')(match)"
   ]
  },
  {
   "cell_type": "code",
   "execution_count": 49,
   "metadata": {
    "collapsed": true
   },
   "outputs": [],
   "source": [
    "response = add([match, input_encoded_c])  # (samples, story_maxlen, query_maxlen)\n",
    "response = Permute((2, 1))(response)  # (samples, query_maxlen, story_maxlen)"
   ]
  },
  {
   "cell_type": "code",
   "execution_count": 50,
   "metadata": {
    "collapsed": true
   },
   "outputs": [],
   "source": [
    "answer = concatenate([response, question_encoded])"
   ]
  },
  {
   "cell_type": "code",
   "execution_count": 51,
   "metadata": {},
   "outputs": [
    {
     "data": {
      "text/plain": [
       "<KerasTensor: shape=(None, 6, 220) dtype=float32 (created by layer 'concatenate')>"
      ]
     },
     "execution_count": 51,
     "metadata": {},
     "output_type": "execute_result"
    }
   ],
   "source": [
    "answer"
   ]
  },
  {
   "cell_type": "code",
   "execution_count": 52,
   "metadata": {
    "collapsed": true
   },
   "outputs": [],
   "source": [
    "# Reduce with RNN (LSTM)\n",
    "answer = LSTM(32)(answer)  # (samples, 32)"
   ]
  },
  {
   "cell_type": "code",
   "execution_count": 53,
   "metadata": {
    "collapsed": true
   },
   "outputs": [],
   "source": [
    "answer = Dropout(0.5)(answer)\n",
    "answer = Dense(vocab_size)(answer)  # (samples, vocab_size)"
   ]
  },
  {
   "cell_type": "code",
   "execution_count": 54,
   "metadata": {
    "collapsed": true
   },
   "outputs": [],
   "source": [
    "answer = Activation('softmax')(answer)\n",
    "\n",
    "# build the final model\n",
    "model = Model([input_sequence, question], answer)\n",
    "model.compile(optimizer='rmsprop', loss='categorical_crossentropy',\n",
    "              metrics=['accuracy'])"
   ]
  },
  {
   "cell_type": "code",
   "execution_count": 55,
   "metadata": {},
   "outputs": [
    {
     "name": "stdout",
     "output_type": "stream",
     "text": [
      "Model: \"model\"\n",
      "__________________________________________________________________________________________________\n",
      " Layer (type)                Output Shape                 Param #   Connected to                  \n",
      "==================================================================================================\n",
      " input_1 (InputLayer)        [(None, 156)]                0         []                            \n",
      "                                                                                                  \n",
      " input_2 (InputLayer)        [(None, 6)]                  0         []                            \n",
      "                                                                                                  \n",
      " sequential (Sequential)     (None, None, 64)             2432      ['input_1[0][0]']             \n",
      "                                                                                                  \n",
      " sequential_2 (Sequential)   (None, 6, 64)                2432      ['input_2[0][0]']             \n",
      "                                                                                                  \n",
      " dot (Dot)                   (None, 156, 6)               0         ['sequential[0][0]',          \n",
      "                                                                     'sequential_2[0][0]']        \n",
      "                                                                                                  \n",
      " activation (Activation)     (None, 156, 6)               0         ['dot[0][0]']                 \n",
      "                                                                                                  \n",
      " sequential_1 (Sequential)   (None, None, 6)              228       ['input_1[0][0]']             \n",
      "                                                                                                  \n",
      " add (Add)                   (None, 156, 6)               0         ['activation[0][0]',          \n",
      "                                                                     'sequential_1[0][0]']        \n",
      "                                                                                                  \n",
      " permute (Permute)           (None, 6, 156)               0         ['add[0][0]']                 \n",
      "                                                                                                  \n",
      " concatenate (Concatenate)   (None, 6, 220)               0         ['permute[0][0]',             \n",
      "                                                                     'sequential_2[0][0]']        \n",
      "                                                                                                  \n",
      " lstm (LSTM)                 (None, 32)                   32384     ['concatenate[0][0]']         \n",
      "                                                                                                  \n",
      " dropout_3 (Dropout)         (None, 32)                   0         ['lstm[0][0]']                \n",
      "                                                                                                  \n",
      " dense (Dense)               (None, 38)                   1254      ['dropout_3[0][0]']           \n",
      "                                                                                                  \n",
      " activation_1 (Activation)   (None, 38)                   0         ['dense[0][0]']               \n",
      "                                                                                                  \n",
      "==================================================================================================\n",
      "Total params: 38730 (151.29 KB)\n",
      "Trainable params: 38730 (151.29 KB)\n",
      "Non-trainable params: 0 (0.00 Byte)\n",
      "__________________________________________________________________________________________________\n"
     ]
    }
   ],
   "source": [
    "model.summary()"
   ]
  },
  {
   "cell_type": "code",
   "execution_count": 56,
   "metadata": {},
   "outputs": [
    {
     "name": "stdout",
     "output_type": "stream",
     "text": [
      "Epoch 1/120\n",
      "313/313 [==============================] - 11s 18ms/step - loss: 0.9509 - accuracy: 0.4896 - val_loss: 0.6944 - val_accuracy: 0.4970\n",
      "Epoch 2/120\n",
      "313/313 [==============================] - 4s 13ms/step - loss: 0.7046 - accuracy: 0.4921 - val_loss: 0.7074 - val_accuracy: 0.5030\n",
      "Epoch 3/120\n",
      "313/313 [==============================] - 5s 15ms/step - loss: 0.6979 - accuracy: 0.5010 - val_loss: 0.7027 - val_accuracy: 0.5030\n",
      "Epoch 4/120\n",
      "313/313 [==============================] - 4s 14ms/step - loss: 0.6978 - accuracy: 0.4902 - val_loss: 0.6935 - val_accuracy: 0.4930\n",
      "Epoch 5/120\n",
      "313/313 [==============================] - 4s 13ms/step - loss: 0.6969 - accuracy: 0.4951 - val_loss: 0.6935 - val_accuracy: 0.4800\n",
      "Epoch 6/120\n",
      "313/313 [==============================] - 4s 14ms/step - loss: 0.6953 - accuracy: 0.5127 - val_loss: 0.6954 - val_accuracy: 0.5030\n",
      "Epoch 7/120\n",
      "313/313 [==============================] - 4s 13ms/step - loss: 0.6948 - accuracy: 0.5056 - val_loss: 0.6959 - val_accuracy: 0.5030\n",
      "Epoch 8/120\n",
      "313/313 [==============================] - 4s 13ms/step - loss: 0.6949 - accuracy: 0.5067 - val_loss: 0.6974 - val_accuracy: 0.4970\n",
      "Epoch 9/120\n",
      "313/313 [==============================] - 4s 13ms/step - loss: 0.6948 - accuracy: 0.5046 - val_loss: 0.6955 - val_accuracy: 0.5030\n",
      "Epoch 10/120\n",
      "313/313 [==============================] - 4s 14ms/step - loss: 0.6944 - accuracy: 0.5124 - val_loss: 0.6963 - val_accuracy: 0.4600\n",
      "Epoch 11/120\n",
      "313/313 [==============================] - 5s 15ms/step - loss: 0.6932 - accuracy: 0.5192 - val_loss: 0.6965 - val_accuracy: 0.5230\n",
      "Epoch 12/120\n",
      "313/313 [==============================] - 4s 14ms/step - loss: 0.6918 - accuracy: 0.5258 - val_loss: 0.6982 - val_accuracy: 0.4620\n",
      "Epoch 13/120\n",
      "313/313 [==============================] - 4s 14ms/step - loss: 0.6860 - accuracy: 0.5389 - val_loss: 0.6944 - val_accuracy: 0.4990\n",
      "Epoch 14/120\n",
      "313/313 [==============================] - 4s 14ms/step - loss: 0.6585 - accuracy: 0.6075 - val_loss: 0.6387 - val_accuracy: 0.6450\n",
      "Epoch 15/120\n",
      "313/313 [==============================] - 4s 14ms/step - loss: 0.6202 - accuracy: 0.6650 - val_loss: 0.6133 - val_accuracy: 0.6550\n",
      "Epoch 16/120\n",
      "313/313 [==============================] - 4s 14ms/step - loss: 0.6004 - accuracy: 0.6839 - val_loss: 0.5883 - val_accuracy: 0.6990\n",
      "Epoch 17/120\n",
      "313/313 [==============================] - 4s 14ms/step - loss: 0.5667 - accuracy: 0.7159 - val_loss: 0.5522 - val_accuracy: 0.7270\n",
      "Epoch 18/120\n",
      "313/313 [==============================] - 4s 14ms/step - loss: 0.5398 - accuracy: 0.7357 - val_loss: 0.5096 - val_accuracy: 0.7580\n",
      "Epoch 19/120\n",
      "313/313 [==============================] - 4s 14ms/step - loss: 0.4979 - accuracy: 0.7632 - val_loss: 0.4763 - val_accuracy: 0.7670\n",
      "Epoch 20/120\n",
      "313/313 [==============================] - 4s 14ms/step - loss: 0.4624 - accuracy: 0.7895 - val_loss: 0.4433 - val_accuracy: 0.7900\n",
      "Epoch 21/120\n",
      "313/313 [==============================] - 4s 14ms/step - loss: 0.4319 - accuracy: 0.8135 - val_loss: 0.4184 - val_accuracy: 0.8160\n",
      "Epoch 22/120\n",
      "313/313 [==============================] - 4s 14ms/step - loss: 0.4110 - accuracy: 0.8276 - val_loss: 0.4029 - val_accuracy: 0.8120\n",
      "Epoch 23/120\n",
      "313/313 [==============================] - 4s 14ms/step - loss: 0.3886 - accuracy: 0.8379 - val_loss: 0.3863 - val_accuracy: 0.8260\n",
      "Epoch 24/120\n",
      "313/313 [==============================] - 4s 14ms/step - loss: 0.3713 - accuracy: 0.8453 - val_loss: 0.3904 - val_accuracy: 0.8310\n",
      "Epoch 25/120\n",
      "313/313 [==============================] - 4s 14ms/step - loss: 0.3623 - accuracy: 0.8501 - val_loss: 0.4036 - val_accuracy: 0.8150\n",
      "Epoch 26/120\n",
      "313/313 [==============================] - 4s 14ms/step - loss: 0.3523 - accuracy: 0.8516 - val_loss: 0.3922 - val_accuracy: 0.8200\n",
      "Epoch 27/120\n",
      "313/313 [==============================] - 4s 14ms/step - loss: 0.3396 - accuracy: 0.8563 - val_loss: 0.3771 - val_accuracy: 0.8270\n",
      "Epoch 28/120\n",
      "313/313 [==============================] - 4s 14ms/step - loss: 0.3341 - accuracy: 0.8591 - val_loss: 0.3902 - val_accuracy: 0.8200\n",
      "Epoch 29/120\n",
      "313/313 [==============================] - 4s 14ms/step - loss: 0.3301 - accuracy: 0.8596 - val_loss: 0.3660 - val_accuracy: 0.8350\n",
      "Epoch 30/120\n",
      "313/313 [==============================] - 4s 14ms/step - loss: 0.3292 - accuracy: 0.8622 - val_loss: 0.3689 - val_accuracy: 0.8330\n",
      "Epoch 31/120\n",
      "313/313 [==============================] - 4s 14ms/step - loss: 0.3202 - accuracy: 0.8668 - val_loss: 0.3682 - val_accuracy: 0.8320\n",
      "Epoch 32/120\n",
      "313/313 [==============================] - 4s 14ms/step - loss: 0.3182 - accuracy: 0.8674 - val_loss: 0.3618 - val_accuracy: 0.8400\n",
      "Epoch 33/120\n",
      "313/313 [==============================] - 4s 14ms/step - loss: 0.3118 - accuracy: 0.8684 - val_loss: 0.3545 - val_accuracy: 0.8370\n",
      "Epoch 34/120\n",
      "313/313 [==============================] - 4s 14ms/step - loss: 0.3093 - accuracy: 0.8694 - val_loss: 0.3810 - val_accuracy: 0.8290\n",
      "Epoch 35/120\n",
      "313/313 [==============================] - 4s 14ms/step - loss: 0.3069 - accuracy: 0.8683 - val_loss: 0.3498 - val_accuracy: 0.8390\n",
      "Epoch 36/120\n",
      "313/313 [==============================] - 4s 14ms/step - loss: 0.3056 - accuracy: 0.8683 - val_loss: 0.3568 - val_accuracy: 0.8440\n",
      "Epoch 37/120\n",
      "313/313 [==============================] - 4s 14ms/step - loss: 0.3028 - accuracy: 0.8704 - val_loss: 0.3615 - val_accuracy: 0.8340\n",
      "Epoch 38/120\n",
      "313/313 [==============================] - 4s 14ms/step - loss: 0.2994 - accuracy: 0.8700 - val_loss: 0.3691 - val_accuracy: 0.8270\n",
      "Epoch 39/120\n",
      "313/313 [==============================] - 4s 14ms/step - loss: 0.2985 - accuracy: 0.8710 - val_loss: 0.3732 - val_accuracy: 0.8390\n",
      "Epoch 40/120\n",
      "313/313 [==============================] - 4s 14ms/step - loss: 0.2965 - accuracy: 0.8714 - val_loss: 0.3528 - val_accuracy: 0.8410\n",
      "Epoch 41/120\n",
      "313/313 [==============================] - 4s 14ms/step - loss: 0.2901 - accuracy: 0.8763 - val_loss: 0.3516 - val_accuracy: 0.8390\n",
      "Epoch 42/120\n",
      "313/313 [==============================] - 4s 14ms/step - loss: 0.2908 - accuracy: 0.8747 - val_loss: 0.3587 - val_accuracy: 0.8370\n",
      "Epoch 43/120\n",
      "313/313 [==============================] - 4s 14ms/step - loss: 0.2850 - accuracy: 0.8776 - val_loss: 0.3479 - val_accuracy: 0.8390\n",
      "Epoch 44/120\n",
      "313/313 [==============================] - 4s 14ms/step - loss: 0.2892 - accuracy: 0.8751 - val_loss: 0.3543 - val_accuracy: 0.8380\n",
      "Epoch 45/120\n",
      "313/313 [==============================] - 4s 14ms/step - loss: 0.2836 - accuracy: 0.8772 - val_loss: 0.3553 - val_accuracy: 0.8360\n",
      "Epoch 46/120\n",
      "313/313 [==============================] - 4s 14ms/step - loss: 0.2844 - accuracy: 0.8777 - val_loss: 0.3459 - val_accuracy: 0.8510\n",
      "Epoch 47/120\n",
      "313/313 [==============================] - 4s 14ms/step - loss: 0.2829 - accuracy: 0.8779 - val_loss: 0.3624 - val_accuracy: 0.8310\n",
      "Epoch 48/120\n",
      "313/313 [==============================] - 4s 14ms/step - loss: 0.2772 - accuracy: 0.8839 - val_loss: 0.3767 - val_accuracy: 0.8330\n",
      "Epoch 49/120\n",
      "313/313 [==============================] - 4s 14ms/step - loss: 0.2766 - accuracy: 0.8798 - val_loss: 0.3706 - val_accuracy: 0.8260\n",
      "Epoch 50/120\n",
      "313/313 [==============================] - 4s 14ms/step - loss: 0.2778 - accuracy: 0.8792 - val_loss: 0.3760 - val_accuracy: 0.8220\n",
      "Epoch 51/120\n",
      "313/313 [==============================] - 4s 14ms/step - loss: 0.2733 - accuracy: 0.8851 - val_loss: 0.3808 - val_accuracy: 0.8350\n",
      "Epoch 52/120\n",
      "313/313 [==============================] - 4s 14ms/step - loss: 0.2708 - accuracy: 0.8854 - val_loss: 0.3636 - val_accuracy: 0.8370\n",
      "Epoch 53/120\n",
      "313/313 [==============================] - 4s 14ms/step - loss: 0.2672 - accuracy: 0.8865 - val_loss: 0.3637 - val_accuracy: 0.8370\n",
      "Epoch 54/120\n",
      "313/313 [==============================] - 4s 14ms/step - loss: 0.2687 - accuracy: 0.8851 - val_loss: 0.3668 - val_accuracy: 0.8320\n",
      "Epoch 55/120\n",
      "313/313 [==============================] - 4s 14ms/step - loss: 0.2642 - accuracy: 0.8872 - val_loss: 0.3624 - val_accuracy: 0.8450\n",
      "Epoch 56/120\n",
      "313/313 [==============================] - 4s 14ms/step - loss: 0.2605 - accuracy: 0.8873 - val_loss: 0.3592 - val_accuracy: 0.8270\n",
      "Epoch 57/120\n",
      "313/313 [==============================] - 4s 14ms/step - loss: 0.2600 - accuracy: 0.8878 - val_loss: 0.3702 - val_accuracy: 0.8360\n",
      "Epoch 58/120\n",
      "313/313 [==============================] - 4s 14ms/step - loss: 0.2598 - accuracy: 0.8895 - val_loss: 0.3820 - val_accuracy: 0.8330\n",
      "Epoch 59/120\n",
      "313/313 [==============================] - 4s 14ms/step - loss: 0.2563 - accuracy: 0.8917 - val_loss: 0.3629 - val_accuracy: 0.8350\n",
      "Epoch 60/120\n",
      "313/313 [==============================] - 4s 14ms/step - loss: 0.2514 - accuracy: 0.8901 - val_loss: 0.3828 - val_accuracy: 0.8320\n",
      "Epoch 61/120\n",
      "313/313 [==============================] - 4s 14ms/step - loss: 0.2558 - accuracy: 0.8890 - val_loss: 0.3782 - val_accuracy: 0.8300\n",
      "Epoch 62/120\n",
      "313/313 [==============================] - 4s 14ms/step - loss: 0.2538 - accuracy: 0.8916 - val_loss: 0.3973 - val_accuracy: 0.8170\n",
      "Epoch 63/120\n",
      "313/313 [==============================] - 5s 14ms/step - loss: 0.2492 - accuracy: 0.8929 - val_loss: 0.3859 - val_accuracy: 0.8450\n",
      "Epoch 64/120\n",
      "313/313 [==============================] - 4s 14ms/step - loss: 0.2436 - accuracy: 0.8966 - val_loss: 0.3893 - val_accuracy: 0.8390\n",
      "Epoch 65/120\n",
      "313/313 [==============================] - 4s 14ms/step - loss: 0.2507 - accuracy: 0.8932 - val_loss: 0.3906 - val_accuracy: 0.8380\n",
      "Epoch 66/120\n",
      "313/313 [==============================] - 4s 14ms/step - loss: 0.2443 - accuracy: 0.8950 - val_loss: 0.4416 - val_accuracy: 0.8170\n",
      "Epoch 67/120\n",
      "313/313 [==============================] - 4s 14ms/step - loss: 0.2415 - accuracy: 0.9002 - val_loss: 0.4101 - val_accuracy: 0.8400\n",
      "Epoch 68/120\n",
      "313/313 [==============================] - 4s 14ms/step - loss: 0.2380 - accuracy: 0.8985 - val_loss: 0.4020 - val_accuracy: 0.8350\n",
      "Epoch 69/120\n",
      "313/313 [==============================] - 4s 14ms/step - loss: 0.2405 - accuracy: 0.8973 - val_loss: 0.4156 - val_accuracy: 0.8400\n",
      "Epoch 70/120\n",
      "313/313 [==============================] - 4s 14ms/step - loss: 0.2341 - accuracy: 0.9018 - val_loss: 0.4003 - val_accuracy: 0.8400\n",
      "Epoch 71/120\n",
      "313/313 [==============================] - 4s 14ms/step - loss: 0.2320 - accuracy: 0.9030 - val_loss: 0.4149 - val_accuracy: 0.8360\n",
      "Epoch 72/120\n",
      "313/313 [==============================] - 4s 14ms/step - loss: 0.2282 - accuracy: 0.9031 - val_loss: 0.4056 - val_accuracy: 0.8410\n",
      "Epoch 73/120\n",
      "313/313 [==============================] - 4s 14ms/step - loss: 0.2247 - accuracy: 0.9035 - val_loss: 0.4187 - val_accuracy: 0.8390\n",
      "Epoch 74/120\n",
      "313/313 [==============================] - 4s 14ms/step - loss: 0.2239 - accuracy: 0.9052 - val_loss: 0.4153 - val_accuracy: 0.8370\n",
      "Epoch 75/120\n",
      "313/313 [==============================] - 4s 14ms/step - loss: 0.2274 - accuracy: 0.9042 - val_loss: 0.4278 - val_accuracy: 0.8320\n",
      "Epoch 76/120\n",
      "313/313 [==============================] - 4s 14ms/step - loss: 0.2268 - accuracy: 0.9055 - val_loss: 0.4387 - val_accuracy: 0.8180\n",
      "Epoch 77/120\n",
      "313/313 [==============================] - 4s 14ms/step - loss: 0.2213 - accuracy: 0.9057 - val_loss: 0.4187 - val_accuracy: 0.8430\n",
      "Epoch 78/120\n",
      "313/313 [==============================] - 4s 14ms/step - loss: 0.2168 - accuracy: 0.9089 - val_loss: 0.4582 - val_accuracy: 0.8320\n",
      "Epoch 79/120\n",
      "313/313 [==============================] - 4s 14ms/step - loss: 0.2165 - accuracy: 0.9115 - val_loss: 0.4354 - val_accuracy: 0.8470\n",
      "Epoch 80/120\n",
      "313/313 [==============================] - 4s 14ms/step - loss: 0.2105 - accuracy: 0.9113 - val_loss: 0.4526 - val_accuracy: 0.8280\n",
      "Epoch 81/120\n",
      "313/313 [==============================] - 4s 14ms/step - loss: 0.2148 - accuracy: 0.9115 - val_loss: 0.4449 - val_accuracy: 0.8300\n",
      "Epoch 82/120\n",
      "313/313 [==============================] - 4s 14ms/step - loss: 0.2058 - accuracy: 0.9161 - val_loss: 0.4526 - val_accuracy: 0.8450\n",
      "Epoch 83/120\n",
      "313/313 [==============================] - 4s 14ms/step - loss: 0.2085 - accuracy: 0.9114 - val_loss: 0.4422 - val_accuracy: 0.8380\n",
      "Epoch 84/120\n",
      "313/313 [==============================] - 4s 14ms/step - loss: 0.2010 - accuracy: 0.9158 - val_loss: 0.4886 - val_accuracy: 0.8220\n",
      "Epoch 85/120\n",
      "313/313 [==============================] - 4s 14ms/step - loss: 0.2030 - accuracy: 0.9162 - val_loss: 0.4543 - val_accuracy: 0.8300\n",
      "Epoch 86/120\n",
      "313/313 [==============================] - 4s 14ms/step - loss: 0.2019 - accuracy: 0.9161 - val_loss: 0.4619 - val_accuracy: 0.8180\n",
      "Epoch 87/120\n",
      "313/313 [==============================] - 4s 14ms/step - loss: 0.2012 - accuracy: 0.9173 - val_loss: 0.4890 - val_accuracy: 0.8280\n",
      "Epoch 88/120\n",
      "313/313 [==============================] - 4s 14ms/step - loss: 0.2009 - accuracy: 0.9165 - val_loss: 0.4588 - val_accuracy: 0.8410\n",
      "Epoch 89/120\n",
      "313/313 [==============================] - 4s 14ms/step - loss: 0.1919 - accuracy: 0.9216 - val_loss: 0.5052 - val_accuracy: 0.8180\n",
      "Epoch 90/120\n",
      "313/313 [==============================] - 4s 14ms/step - loss: 0.1968 - accuracy: 0.9173 - val_loss: 0.4899 - val_accuracy: 0.8270\n",
      "Epoch 91/120\n",
      "313/313 [==============================] - 4s 14ms/step - loss: 0.1998 - accuracy: 0.9202 - val_loss: 0.4741 - val_accuracy: 0.8270\n",
      "Epoch 92/120\n",
      "313/313 [==============================] - 4s 14ms/step - loss: 0.1925 - accuracy: 0.9215 - val_loss: 0.5006 - val_accuracy: 0.8200\n",
      "Epoch 93/120\n",
      "313/313 [==============================] - 4s 14ms/step - loss: 0.1879 - accuracy: 0.9232 - val_loss: 0.5144 - val_accuracy: 0.8260\n",
      "Epoch 94/120\n",
      "313/313 [==============================] - 4s 14ms/step - loss: 0.1876 - accuracy: 0.9232 - val_loss: 0.5233 - val_accuracy: 0.8270\n",
      "Epoch 95/120\n",
      "313/313 [==============================] - 4s 14ms/step - loss: 0.1854 - accuracy: 0.9243 - val_loss: 0.5281 - val_accuracy: 0.8170\n",
      "Epoch 96/120\n",
      "313/313 [==============================] - 4s 14ms/step - loss: 0.1861 - accuracy: 0.9261 - val_loss: 0.5141 - val_accuracy: 0.8250\n",
      "Epoch 97/120\n",
      "313/313 [==============================] - 4s 14ms/step - loss: 0.1821 - accuracy: 0.9239 - val_loss: 0.4847 - val_accuracy: 0.8330\n",
      "Epoch 98/120\n",
      "313/313 [==============================] - 4s 14ms/step - loss: 0.1854 - accuracy: 0.9236 - val_loss: 0.5196 - val_accuracy: 0.8300\n",
      "Epoch 99/120\n",
      "313/313 [==============================] - 4s 14ms/step - loss: 0.1852 - accuracy: 0.9245 - val_loss: 0.4850 - val_accuracy: 0.8380\n",
      "Epoch 100/120\n",
      "313/313 [==============================] - 4s 14ms/step - loss: 0.1750 - accuracy: 0.9271 - val_loss: 0.5233 - val_accuracy: 0.8320\n",
      "Epoch 101/120\n",
      "313/313 [==============================] - 4s 14ms/step - loss: 0.1765 - accuracy: 0.9268 - val_loss: 0.5115 - val_accuracy: 0.8280\n",
      "Epoch 102/120\n",
      "313/313 [==============================] - 4s 14ms/step - loss: 0.1789 - accuracy: 0.9260 - val_loss: 0.5330 - val_accuracy: 0.8150\n",
      "Epoch 103/120\n",
      "313/313 [==============================] - 4s 14ms/step - loss: 0.1749 - accuracy: 0.9285 - val_loss: 0.5585 - val_accuracy: 0.8010\n",
      "Epoch 104/120\n",
      "313/313 [==============================] - 4s 14ms/step - loss: 0.1731 - accuracy: 0.9300 - val_loss: 0.5281 - val_accuracy: 0.8140\n",
      "Epoch 105/120\n",
      "313/313 [==============================] - 5s 14ms/step - loss: 0.1731 - accuracy: 0.9292 - val_loss: 0.5273 - val_accuracy: 0.8110\n",
      "Epoch 106/120\n",
      "313/313 [==============================] - 4s 14ms/step - loss: 0.1696 - accuracy: 0.9301 - val_loss: 0.5422 - val_accuracy: 0.8280\n",
      "Epoch 107/120\n",
      "313/313 [==============================] - 4s 14ms/step - loss: 0.1693 - accuracy: 0.9309 - val_loss: 0.6261 - val_accuracy: 0.7990\n",
      "Epoch 108/120\n",
      "313/313 [==============================] - 4s 14ms/step - loss: 0.1693 - accuracy: 0.9317 - val_loss: 0.5496 - val_accuracy: 0.8250\n",
      "Epoch 109/120\n",
      "313/313 [==============================] - 4s 14ms/step - loss: 0.1681 - accuracy: 0.9301 - val_loss: 0.5517 - val_accuracy: 0.8190\n",
      "Epoch 110/120\n",
      "313/313 [==============================] - 4s 14ms/step - loss: 0.1682 - accuracy: 0.9325 - val_loss: 0.5800 - val_accuracy: 0.8200\n",
      "Epoch 111/120\n",
      "313/313 [==============================] - 4s 14ms/step - loss: 0.1662 - accuracy: 0.9319 - val_loss: 0.5552 - val_accuracy: 0.8130\n",
      "Epoch 112/120\n",
      "313/313 [==============================] - 4s 14ms/step - loss: 0.1634 - accuracy: 0.9350 - val_loss: 0.6335 - val_accuracy: 0.8000\n",
      "Epoch 113/120\n",
      "313/313 [==============================] - 4s 14ms/step - loss: 0.1611 - accuracy: 0.9346 - val_loss: 0.5686 - val_accuracy: 0.8290\n",
      "Epoch 114/120\n",
      "313/313 [==============================] - 4s 14ms/step - loss: 0.1618 - accuracy: 0.9336 - val_loss: 0.6036 - val_accuracy: 0.8010\n",
      "Epoch 115/120\n",
      "313/313 [==============================] - 4s 14ms/step - loss: 0.1543 - accuracy: 0.9390 - val_loss: 0.5889 - val_accuracy: 0.8170\n",
      "Epoch 116/120\n",
      "313/313 [==============================] - 5s 14ms/step - loss: 0.1566 - accuracy: 0.9376 - val_loss: 0.6836 - val_accuracy: 0.7970\n",
      "Epoch 117/120\n",
      "313/313 [==============================] - 5s 14ms/step - loss: 0.1556 - accuracy: 0.9374 - val_loss: 0.5773 - val_accuracy: 0.8160\n",
      "Epoch 118/120\n",
      "313/313 [==============================] - 5s 14ms/step - loss: 0.1535 - accuracy: 0.9374 - val_loss: 0.5920 - val_accuracy: 0.8130\n",
      "Epoch 119/120\n",
      "313/313 [==============================] - 4s 14ms/step - loss: 0.1536 - accuracy: 0.9381 - val_loss: 0.5577 - val_accuracy: 0.8270\n",
      "Epoch 120/120\n",
      "313/313 [==============================] - 4s 14ms/step - loss: 0.1523 - accuracy: 0.9389 - val_loss: 0.6264 - val_accuracy: 0.8030\n"
     ]
    }
   ],
   "source": [
    "# train\n",
    "history = model.fit([inputs_train, queries_train], answers_train,batch_size=32,epochs=120,validation_data=([inputs_test, queries_test], answers_test))"
   ]
  },
  {
   "cell_type": "markdown",
   "metadata": {},
   "source": [
    "### Saving the Model"
   ]
  },
  {
   "cell_type": "code",
   "execution_count": 57,
   "metadata": {
    "collapsed": true
   },
   "outputs": [
    {
     "name": "stderr",
     "output_type": "stream",
     "text": [
      "/Users/sumanthpagadala/anaconda3/lib/python3.11/site-packages/keras/src/engine/training.py:3103: UserWarning: You are saving your model as an HDF5 file via `model.save()`. This file format is considered legacy. We recommend using instead the native Keras format, e.g. `model.save('my_model.keras')`.\n",
      "  saving_api.save_model(\n"
     ]
    }
   ],
   "source": [
    "filename = 'chatbot_120_epochs.h5'\n",
    "model.save(filename)"
   ]
  },
  {
   "cell_type": "markdown",
   "metadata": {},
   "source": [
    "## Evaluating the Model\n",
    "\n",
    "### Plotting Out Training History"
   ]
  },
  {
   "cell_type": "code",
   "execution_count": 60,
   "metadata": {},
   "outputs": [
    {
     "name": "stdout",
     "output_type": "stream",
     "text": [
      "dict_keys(['loss', 'accuracy', 'val_loss', 'val_accuracy'])\n"
     ]
    },
    {
     "data": {
      "image/png": "[encoded data removed]",
      "text/plain": [
       "<Figure size 640x480 with 1 Axes>"
      ]
     },
     "metadata": {},
     "output_type": "display_data"
    }
   ],
   "source": [
    "import matplotlib.pyplot as plt\n",
    "%matplotlib inline\n",
    "print(history.history.keys())\n",
    "# summarize history for accuracy\n",
    "plt.plot(history.history['accuracy'])\n",
    "plt.plot(history.history['val_accuracy'])\n",
    "plt.title('model accuracy')\n",
    "plt.ylabel('accuracy')\n",
    "plt.xlabel('epoch')\n",
    "plt.legend(['train', 'test'], loc='upper left')\n",
    "plt.show()"
   ]
  },
  {
   "cell_type": "code",
   "execution_count": 61,
   "metadata": {
    "collapsed": true
   },
   "outputs": [
    {
     "name": "stdout",
     "output_type": "stream",
     "text": [
      "32/32 [==============================] - 0s 4ms/step\n"
     ]
    }
   ],
   "source": [
    "model.load_weights(filename)\n",
    "pred_results = model.predict(([inputs_test, queries_test]))"
   ]
  },
  {
   "cell_type": "code",
   "execution_count": 62,
   "metadata": {},
   "outputs": [
    {
     "data": {
      "text/plain": [
       "['Mary',\n",
       " 'got',\n",
       " 'the',\n",
       " 'milk',\n",
       " 'there',\n",
       " '.',\n",
       " 'John',\n",
       " 'moved',\n",
       " 'to',\n",
       " 'the',\n",
       " 'bedroom',\n",
       " '.']"
      ]
     },
     "execution_count": 62,
     "metadata": {},
     "output_type": "execute_result"
    }
   ],
   "source": [
    "test_data[0][0]"
   ]
  },
  {
   "cell_type": "code",
   "execution_count": 63,
   "metadata": {},
   "outputs": [
    {
     "name": "stdout",
     "output_type": "stream",
     "text": [
      "Mary got the milk there . John moved to the bedroom .\n"
     ]
    }
   ],
   "source": [
    "story =' '.join(word for word in test_data[0][0])\n",
    "print(story)"
   ]
  },
  {
   "cell_type": "code",
   "execution_count": 64,
   "metadata": {},
   "outputs": [
    {
     "name": "stdout",
     "output_type": "stream",
     "text": [
      "Is John in the kitchen ?\n"
     ]
    }
   ],
   "source": [
    "query = ' '.join(word for word in test_data[0][1])\n",
    "print(query)"
   ]
  },
  {
   "cell_type": "code",
   "execution_count": 65,
   "metadata": {},
   "outputs": [
    {
     "name": "stdout",
     "output_type": "stream",
     "text": [
      "True Test Answer from Data is: no\n"
     ]
    }
   ],
   "source": [
    "print(\"True Test Answer from Data is:\",test_data[0][2])"
   ]
  },
  {
   "cell_type": "code",
   "execution_count": 66,
   "metadata": {},
   "outputs": [
    {
     "name": "stdout",
     "output_type": "stream",
     "text": [
      "Predicted answer is:  no\n",
      "Probability of certainty was:  0.9998869\n"
     ]
    }
   ],
   "source": [
    "#Generate prediction from model\n",
    "val_max = np.argmax(pred_results[0])\n",
    "\n",
    "for key, val in tokenizer.word_index.items():\n",
    "    if val == val_max:\n",
    "        k = key\n",
    "\n",
    "print(\"Predicted answer is: \", k)\n",
    "print(\"Probability of certainty was: \", pred_results[0][val_max])"
   ]
  },
  {
   "cell_type": "markdown",
   "metadata": {},
   "source": [
    "## Writing Your Own Stories and Questions\n",
    "\n",
    "Remember you can only use words from the existing vocab"
   ]
  },
  {
   "cell_type": "code",
   "execution_count": 67,
   "metadata": {},
   "outputs": [
    {
     "data": {
      "text/plain": [
       "{'.',\n",
       " '?',\n",
       " 'Daniel',\n",
       " 'Is',\n",
       " 'John',\n",
       " 'Mary',\n",
       " 'Sandra',\n",
       " 'apple',\n",
       " 'back',\n",
       " 'bathroom',\n",
       " 'bedroom',\n",
       " 'discarded',\n",
       " 'down',\n",
       " 'dropped',\n",
       " 'football',\n",
       " 'garden',\n",
       " 'got',\n",
       " 'grabbed',\n",
       " 'hallway',\n",
       " 'in',\n",
       " 'journeyed',\n",
       " 'kitchen',\n",
       " 'left',\n",
       " 'milk',\n",
       " 'moved',\n",
       " 'no',\n",
       " 'office',\n",
       " 'picked',\n",
       " 'put',\n",
       " 'the',\n",
       " 'there',\n",
       " 'to',\n",
       " 'took',\n",
       " 'travelled',\n",
       " 'up',\n",
       " 'went',\n",
       " 'yes'}"
      ]
     },
     "execution_count": 67,
     "metadata": {},
     "output_type": "execute_result"
    }
   ],
   "source": [
    "vocab"
   ]
  },
  {
   "cell_type": "code",
   "execution_count": 68,
   "metadata": {},
   "outputs": [
    {
     "data": {
      "text/plain": [
       "['John',\n",
       " 'left',\n",
       " 'the',\n",
       " 'kitchen',\n",
       " '.',\n",
       " 'Sandra',\n",
       " 'dropped',\n",
       " 'the',\n",
       " 'football',\n",
       " 'in',\n",
       " 'the',\n",
       " 'garden',\n",
       " '.']"
      ]
     },
     "execution_count": 68,
     "metadata": {},
     "output_type": "execute_result"
    }
   ],
   "source": [
    "# Note the whitespace of the periods\n",
    "my_story = \"John left the kitchen . Sandra dropped the football in the garden .\"\n",
    "my_story.split()"
   ]
  },
  {
   "cell_type": "code",
   "execution_count": 69,
   "metadata": {
    "collapsed": true
   },
   "outputs": [],
   "source": [
    "my_question = \"Is the football in the garden ?\""
   ]
  },
  {
   "cell_type": "code",
   "execution_count": 70,
   "metadata": {},
   "outputs": [
    {
     "data": {
      "text/plain": [
       "['Is', 'the', 'football', 'in', 'the', 'garden', '?']"
      ]
     },
     "execution_count": 70,
     "metadata": {},
     "output_type": "execute_result"
    }
   ],
   "source": [
    "my_question.split()"
   ]
  },
  {
   "cell_type": "code",
   "execution_count": 71,
   "metadata": {
    "collapsed": true
   },
   "outputs": [],
   "source": [
    "mydata = [(my_story.split(),my_question.split(),'yes')]"
   ]
  },
  {
   "cell_type": "code",
   "execution_count": 72,
   "metadata": {
    "collapsed": true
   },
   "outputs": [],
   "source": [
    "my_story,my_ques,my_ans = vectorize_stories(mydata)"
   ]
  },
  {
   "cell_type": "code",
   "execution_count": 73,
   "metadata": {
    "collapsed": true
   },
   "outputs": [
    {
     "name": "stdout",
     "output_type": "stream",
     "text": [
      "1/1 [==============================] - 1s 1s/step\n"
     ]
    }
   ],
   "source": [
    "pred_results = model.predict(([ my_story, my_ques]))"
   ]
  },
  {
   "cell_type": "code",
   "execution_count": 74,
   "metadata": {},
   "outputs": [
    {
     "name": "stdout",
     "output_type": "stream",
     "text": [
      "Predicted answer is:  yes\n",
      "Probability of certainty was:  0.98994595\n"
     ]
    }
   ],
   "source": [
    "#Generate prediction from model\n",
    "val_max = np.argmax(pred_results[0])\n",
    "\n",
    "for key, val in tokenizer.word_index.items():\n",
    "    if val == val_max:\n",
    "        k = key\n",
    "\n",
    "print(\"Predicted answer is: \", k)\n",
    "print(\"Probability of certainty was: \", pred_results[0][val_max])"
   ]
  }
 ],
 "metadata": {
  "kernelspec": {
   "display_name": "Python 3",
   "language": "python",
   "name": "python3"
  },
  "language_info": {
   "codemirror_mode": {
    "name": "ipython",
    "version": 3
   },
   "file_extension": ".py",
   "mimetype": "text/x-python",
   "name": "python",
   "nbconvert_exporter": "python",
   "pygments_lexer": "ipython3",
   "version": "3.11.5"
  }
 },
 "nbformat": 4,
 "nbformat_minor": 2
}
